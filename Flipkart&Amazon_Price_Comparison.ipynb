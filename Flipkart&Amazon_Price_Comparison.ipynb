{
 "cells": [
  {
   "cell_type": "code",
   "execution_count": 196,
   "id": "e5be7b0e",
   "metadata": {},
   "outputs": [],
   "source": [
    "import pandas as pd\n",
    "from difflib import SequenceMatcher\n",
    "from tabulate import tabulate"
   ]
  },
  {
   "cell_type": "code",
   "execution_count": 197,
   "id": "5102f0b3",
   "metadata": {},
   "outputs": [],
   "source": [
    "#This function gives the accuracy of two strings being similar\n",
    "def similar(a, b):\n",
    "    return SequenceMatcher(None, a, b).ratio()"
   ]
  },
  {
   "cell_type": "code",
   "execution_count": 198,
   "id": "f393b630",
   "metadata": {},
   "outputs": [],
   "source": [
    "#Reading the data --- fk ~ flipkart & az ~ amazon\n",
    "fk = pd.read_csv('DS - Assignment Part 2 data set/flipkart_com-ecommerce_sample.csv')\n",
    "az = pd.read_csv('DS - Assignment Part 2 data set/amz_com-ecommerce_sample.csv',\n",
    "                        encoding= 'unicode_escape')"
   ]
  },
  {
   "cell_type": "code",
   "execution_count": 199,
   "id": "81723bd0",
   "metadata": {},
   "outputs": [],
   "source": [
    "#Creating lists for the required columns\n",
    "fk_name  =  list(fk[\"product_name\"])\n",
    "az_name  =  list(az[\"product_name\"])\n",
    "fk_description  =  list(fk[\"description\"])\n",
    "az_description  =  list(az[\"description\"])\n",
    "fk_tree  =  list(fk[\"product_category_tree\"])\n",
    "az_tree  =  list(az[\"product_category_tree\"])\n",
    "fk_rp  =  list(fk[\"retail_price\"])\n",
    "az_rp  =  list(az[\"retail_price\"])\n",
    "fk_dp  =  list(fk[\"discounted_price\"])\n",
    "az_dp  =  list(az[\"discounted_price\"])"
   ]
  },
  {
   "cell_type": "code",
   "execution_count": 200,
   "id": "e7b0def7",
   "metadata": {},
   "outputs": [
    {
     "name": "stdout",
     "output_type": "stream",
     "text": [
      "Please enter the product name :FabHomeDecor Fabric Double Sofa Bed\n"
     ]
    }
   ],
   "source": [
    "#Getting the product name\n",
    "prod_name=input(\"Please enter the product name :\")"
   ]
  },
  {
   "cell_type": "code",
   "execution_count": 201,
   "id": "658f2806",
   "metadata": {},
   "outputs": [
    {
     "name": "stdout",
     "output_type": "stream",
     "text": [
      "              Product name in Flipkart  Retail Price in Flipkart  \\\n",
      "0  FabHomeDecor Fabric Double Sofa Bed                   32157.0   \n",
      "\n",
      "   Discounted Price in Flipkart               Product name in Amazon  \\\n",
      "0                       22646.0  FabHomeDecor Fabric Double Sofa Bed   \n",
      "\n",
      "   Retail Price in Amazon  Discounted Price in Amazon  \n",
      "0                   32143                       29121  \n"
     ]
    }
   ],
   "source": [
    "if prod_name in fk_name:      #This code is executed if the product name is found in flipkart\n",
    "    \n",
    "    ind=fk_name.index(prod_name)\n",
    "\n",
    "    \"\"\"\n",
    "    Since the description gives very accurate details of a product, we compare them to find similar products\n",
    "    But since description is big, it takes time. Hence, the product tree being smaller is matched first and then the \n",
    "    respective description is checked\n",
    "\n",
    "    \"\"\"\n",
    "    for i in range(20000):\n",
    "        if similar(str(fk_tree[ind]),str(az_tree[i]))>=0.9:                     #checking accuracy between the product trees\n",
    "            if similar(str(fk_description[ind]),str(az_description[i]))>=0.9:   #checking accuracy between the description\n",
    "\n",
    "                data=[[fk_name[ind], fk_rp[ind], fk_dp[ind], az_name[i], az_rp[i], az_dp[i]]]\n",
    "                headers=[\"Product name in Flipkart\", \"Retail Price in Flipkart\", \"Discounted Price in Flipkart\", \"Product name in Amazon\", \"Retail Price in Amazon\", \"Discounted Price in Amazon\"]\n",
    "                df=pd.DataFrame(data,columns=headers)\n",
    "                df.to_excel(\"Price comparison.xlsx\")    #the output is written to an excel file\n",
    "                print(df)\n",
    "                break\n",
    "            else:\n",
    "                pass\n",
    "        else:\n",
    "            pass\n",
    "else:              #This code is executed if the product name is found in amazon\n",
    "    ind=az_name.index(prod_name)\n",
    "    for i in range(20000):\n",
    "        if similar(str(fk_tree[i]),str(az_tree[ind]))>=0.9:\n",
    "            if similar(str(fk_description[i]),str(az_description[ind]))>=0.9:\n",
    "                data=[[fk_name[i], fk_rp[i], fk_dp[i], az_name[ind], az_rp[ind], az_dp[ind]]]\n",
    "                headers=[\"Product name in Flipkart\", \"Retail Price in Flipkart\", \"Discounted Price in Flipkart\", \"Product name in Amazon\", \"Retail Price in Amazon\", \"Discounted Price in Amazon\"]\n",
    "                df=pd.DataFrame(data,columns=headers)\n",
    "                df.to_excel(\"Price comparison.xlsx\")\n",
    "                print(df)\n",
    "                break\n",
    "            else:\n",
    "                pass\n",
    "        else:\n",
    "            pass    "
   ]
  }
 ],
 "metadata": {
  "kernelspec": {
   "display_name": "Python 3 (ipykernel)",
   "language": "python",
   "name": "python3"
  },
  "language_info": {
   "codemirror_mode": {
    "name": "ipython",
    "version": 3
   },
   "file_extension": ".py",
   "mimetype": "text/x-python",
   "name": "python",
   "nbconvert_exporter": "python",
   "pygments_lexer": "ipython3",
   "version": "3.9.7"
  }
 },
 "nbformat": 4,
 "nbformat_minor": 5
}
